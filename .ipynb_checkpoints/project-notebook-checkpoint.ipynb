{
 "cells": [
  {
   "cell_type": "markdown",
   "id": "66b21b0e",
   "metadata": {},
   "source": [
    "# CLEF2023 Task 2: Subjectivity in news articles"
   ]
  },
  {
   "cell_type": "code",
   "execution_count": 36,
   "id": "6736f8ba",
   "metadata": {
    "execution": {
     "iopub.execute_input": "2023-07-14T21:22:35.648440Z",
     "iopub.status.busy": "2023-07-14T21:22:35.647773Z",
     "iopub.status.idle": "2023-07-14T21:22:35.694520Z",
     "shell.execute_reply": "2023-07-14T21:22:35.693293Z",
     "shell.execute_reply.started": "2023-07-14T21:22:35.648387Z"
    }
   },
   "outputs": [],
   "source": [
    "# All imports\n",
    "import pandas as pd\n",
    "import torch\n",
    "from sklearn.model_selection import train_test_split\n",
    "from sklearn.metrics import classification_report\n",
    "from transformers import AutoTokenizer, AutoModelForSequenceClassification, TrainingArguments, Trainer\n",
    "from datasets import Dataset, DatasetDict\n",
    "from transformers import AutoTokenizer, AutoModelForSequenceClassification, TrainingArguments, Trainer\n",
    "from datasets import Dataset, DatasetDict\n",
    "from sklearn.model_selection import ParameterGrid\n",
    "from tabulate import tabulate"
   ]
  },
  {
   "cell_type": "code",
   "execution_count": 37,
   "id": "aae5ae03",
   "metadata": {
    "execution": {
     "iopub.execute_input": "2023-07-14T21:12:23.546380Z",
     "iopub.status.busy": "2023-07-14T21:12:23.545053Z",
     "iopub.status.idle": "2023-07-14T21:12:23.602390Z",
     "shell.execute_reply": "2023-07-14T21:12:23.601115Z",
     "shell.execute_reply.started": "2023-07-14T21:12:23.546335Z"
    }
   },
   "outputs": [],
   "source": [
    "\n",
    "# Reading the dataset\n",
    "train_data = pd.read_csv('./data/subtask-2-english/train_en.tsv', delimiter='\\t')\n",
    "validation_data = pd.read_csv('./data/subtask-2-english/dev_en.tsv', delimiter='\\t')\n",
    "testing_data = pd.read_csv('./data/subtask-2-english/test_en.tsv', delimiter='\\t')\n",
    "testing_data_gold = pd.read_csv('./data/subtask-2-english/test_en_gold.tsv', delimiter='\\t')\n"
   ]
  },
  {
   "cell_type": "code",
   "execution_count": 38,
   "id": "cab8df3a",
   "metadata": {
    "execution": {
     "iopub.execute_input": "2023-07-14T21:12:24.179395Z",
     "iopub.status.busy": "2023-07-14T21:12:24.178983Z",
     "iopub.status.idle": "2023-07-14T21:12:24.186511Z",
     "shell.execute_reply": "2023-07-14T21:12:24.185176Z",
     "shell.execute_reply.started": "2023-07-14T21:12:24.179360Z"
    }
   },
   "outputs": [],
   "source": [
    "import string\n",
    "import re\n",
    "def remove_punctuation(text):\n",
    "    cleaned_text = text.translate(str.maketrans('', '', string.punctuation))\n",
    "    return cleaned_text\n",
    "\n",
    "def remove_numbers(text):\n",
    "    cleaned_text = re.sub(r'\\d+', '', text)\n",
    "    return cleaned_text"
   ]
  },
  {
   "cell_type": "code",
   "execution_count": 39,
   "id": "ad3a4bdf",
   "metadata": {
    "execution": {
     "iopub.execute_input": "2023-07-14T21:12:25.926071Z",
     "iopub.status.busy": "2023-07-14T21:12:25.925639Z",
     "iopub.status.idle": "2023-07-14T21:12:25.974402Z",
     "shell.execute_reply": "2023-07-14T21:12:25.972780Z",
     "shell.execute_reply.started": "2023-07-14T21:12:25.926039Z"
    }
   },
   "outputs": [],
   "source": [
    "for data in [train_data, validation_data, testing_data, testing_data_gold]:\n",
    "    data['sentence'] = data['sentence'].apply(remove_punctuation)\n",
    "    data['sentence'] = data['sentence'].apply(remove_numbers)"
   ]
  },
  {
   "cell_type": "code",
   "execution_count": 40,
   "id": "ce8a2533",
   "metadata": {},
   "outputs": [
    {
     "name": "stdout",
     "output_type": "stream",
     "text": [
      "DatasetDict({\n",
      "    train: Dataset({\n",
      "        features: ['sentence_id', 'sentence', 'label', 'solved_conflict'],\n",
      "        num_rows: 830\n",
      "    })\n",
      "    validation: Dataset({\n",
      "        features: ['sentence_id', 'sentence', 'label', 'solved_conflict'],\n",
      "        num_rows: 219\n",
      "    })\n",
      "    test: Dataset({\n",
      "        features: ['sentence_id', 'sentence', 'label'],\n",
      "        num_rows: 243\n",
      "    })\n",
      "})\n"
     ]
    }
   ],
   "source": [
    "\n",
    "train_data['label'] = train_data['label'].replace({'SUBJ': 0, 'OBJ': 1})\n",
    "validation_data['label'] = validation_data['label'].replace({'SUBJ': 0, 'OBJ': 1})\n",
    "testing_data_gold['label'] = testing_data_gold['label'].replace({'SUBJ': 0, 'OBJ': 1})\n",
    "\n",
    "# Convert to Hugging Face Dataset format\n",
    "train_dataset = Dataset.from_pandas(train_data)\n",
    "validation_dataset = Dataset.from_pandas(validation_data)\n",
    "testing_dataset = Dataset.from_pandas(testing_data)\n",
    "testing_data_gold = Dataset.from_pandas(testing_data_gold)\n",
    "\n",
    "# Create DatasetDict\n",
    "dataset_dict = DatasetDict({\n",
    "    'train': train_dataset,\n",
    "    'validation': validation_dataset,\n",
    "    'test': testing_data_gold,\n",
    "})\n",
    "\n",
    "print(dataset_dict)"
   ]
  },
  {
   "cell_type": "code",
   "execution_count": 41,
   "id": "777ffac9",
   "metadata": {},
   "outputs": [
    {
     "data": {
      "application/vnd.jupyter.widget-view+json": {
       "model_id": "0cb561377d4c49b88f954d22f795540b",
       "version_major": 2,
       "version_minor": 0
      },
      "text/plain": [
       "Downloading (…)lve/main/config.json:   0%|          | 0.00/481 [00:00<?, ?B/s]"
      ]
     },
     "metadata": {},
     "output_type": "display_data"
    },
    {
     "data": {
      "application/vnd.jupyter.widget-view+json": {
       "model_id": "68dc6f5f74404511af5b101c8ae99335",
       "version_major": 2,
       "version_minor": 0
      },
      "text/plain": [
       "Downloading (…)olve/main/vocab.json:   0%|          | 0.00/899k [00:00<?, ?B/s]"
      ]
     },
     "metadata": {},
     "output_type": "display_data"
    },
    {
     "data": {
      "application/vnd.jupyter.widget-view+json": {
       "model_id": "43817dafd8e340d3a3a932d0e9b648e8",
       "version_major": 2,
       "version_minor": 0
      },
      "text/plain": [
       "Downloading (…)olve/main/merges.txt:   0%|          | 0.00/456k [00:00<?, ?B/s]"
      ]
     },
     "metadata": {},
     "output_type": "display_data"
    },
    {
     "data": {
      "application/vnd.jupyter.widget-view+json": {
       "model_id": "ca8eef657d0f45be8d59d1513bd2823f",
       "version_major": 2,
       "version_minor": 0
      },
      "text/plain": [
       "Downloading (…)/main/tokenizer.json:   0%|          | 0.00/1.36M [00:00<?, ?B/s]"
      ]
     },
     "metadata": {},
     "output_type": "display_data"
    }
   ],
   "source": [
    "from transformers import AutoTokenizer\n",
    "import numpy as np\n",
    "\n",
    "roberta_tokenizer = AutoTokenizer.from_pretrained(\"roberta-base\")"
   ]
  },
  {
   "cell_type": "code",
   "execution_count": 42,
   "id": "28b19e3e",
   "metadata": {},
   "outputs": [],
   "source": [
    "def tokenize_function(examples):\n",
    "\n",
    "    \"\"\" This function tokenizes the text in the examples dictionary.\n",
    "        We pass it to the map function of the dataset so that we can batch the tokenization for efficiency by\n",
    "        tokenizing batches in parallel.\n",
    "    \"\"\"\n",
    "    return roberta_tokenizer(examples[\"sentence\"], padding=\"max_length\", truncation=True)"
   ]
  },
  {
   "cell_type": "code",
   "execution_count": 43,
   "id": "af8bd39e",
   "metadata": {},
   "outputs": [
    {
     "data": {
      "application/vnd.jupyter.widget-view+json": {
       "model_id": "",
       "version_major": 2,
       "version_minor": 0
      },
      "text/plain": [
       "Map:   0%|          | 0/830 [00:00<?, ? examples/s]"
      ]
     },
     "metadata": {},
     "output_type": "display_data"
    },
    {
     "data": {
      "application/vnd.jupyter.widget-view+json": {
       "model_id": "",
       "version_major": 2,
       "version_minor": 0
      },
      "text/plain": [
       "Map:   0%|          | 0/219 [00:00<?, ? examples/s]"
      ]
     },
     "metadata": {},
     "output_type": "display_data"
    },
    {
     "data": {
      "application/vnd.jupyter.widget-view+json": {
       "model_id": "",
       "version_major": 2,
       "version_minor": 0
      },
      "text/plain": [
       "Map:   0%|          | 0/243 [00:00<?, ? examples/s]"
      ]
     },
     "metadata": {},
     "output_type": "display_data"
    }
   ],
   "source": [
    "tokenized_datasets = dataset_dict.map(tokenize_function, batched=True)"
   ]
  },
  {
   "cell_type": "code",
   "execution_count": 44,
   "id": "b5897c29",
   "metadata": {},
   "outputs": [],
   "source": [
    "from sklearn.preprocessing import MinMaxScaler\n",
    "\n",
    "scaler = MinMaxScaler()\n",
    "\n",
    "# Normalize numerical features in the training set\n",
    "train_features = scaler.fit_transform(tokenized_datasets[\"train\"][\"input_ids\"])\n",
    "\n",
    "# Apply the same transformation to the validation and test sets\n",
    "validation_features = scaler.transform(tokenized_datasets[\"validation\"][\"input_ids\"])\n",
    "test_features = scaler.transform(tokenized_datasets[\"test\"][\"input_ids\"])\n"
   ]
  },
  {
   "cell_type": "code",
   "execution_count": 45,
   "id": "83e762da",
   "metadata": {},
   "outputs": [
    {
     "data": {
      "text/plain": [
       "(830,)"
      ]
     },
     "execution_count": 45,
     "metadata": {},
     "output_type": "execute_result"
    }
   ],
   "source": [
    "train_data['label'].shape"
   ]
  },
  {
   "cell_type": "code",
   "execution_count": 46,
   "id": "eb03f985",
   "metadata": {
    "execution": {
     "iopub.execute_input": "2023-07-14T21:12:28.696795Z",
     "iopub.status.busy": "2023-07-14T21:12:28.695181Z",
     "iopub.status.idle": "2023-07-14T21:12:35.742911Z",
     "shell.execute_reply": "2023-07-14T21:12:35.741513Z",
     "shell.execute_reply.started": "2023-07-14T21:12:28.696727Z"
    }
   },
   "outputs": [
    {
     "name": "stdout",
     "output_type": "stream",
     "text": [
      "huggingface/tokenizers: The current process just got forked, after parallelism has already been used. Disabling parallelism to avoid deadlocks...\n",
      "To disable this warning, you can either:\n",
      "\t- Avoid using `tokenizers` before the fork if possible\n",
      "\t- Explicitly set the environment variable TOKENIZERS_PARALLELISM=(true | false)\n",
      "huggingface/tokenizers: The current process just got forked, after parallelism has already been used. Disabling parallelism to avoid deadlocks...\n",
      "To disable this warning, you can either:\n",
      "\t- Avoid using `tokenizers` before the fork if possible\n",
      "\t- Explicitly set the environment variable TOKENIZERS_PARALLELISM=(true | false)\n"
     ]
    },
    {
     "name": "stderr",
     "output_type": "stream",
     "text": [
      "/home/ahmad/.local/lib/python3.10/site-packages/torch/cuda/__init__.py:546: UserWarning: Can't initialize NVML\n",
      "  warnings.warn(\"Can't initialize NVML\")\n",
      "/home/ahmad/.local/lib/python3.10/site-packages/torch/cuda/__init__.py:651: UserWarning: CUDA initialization: Unexpected error from cudaGetDeviceCount(). Did you run some cuda functions before calling NumCudaDevices() that might have already set an error? Error 803: system has unsupported display driver / cuda driver combination (Triggered internally at ../c10/cuda/CUDAFunctions.cpp:109.)\n",
      "  return torch._C._cuda_getDeviceCount() if nvml_count < 0 else nvml_count\n"
     ]
    }
   ],
   "source": [
    "# !python3 -m spacy download en_core_web_lg\n",
    "import spacy\n",
    "nlp = spacy.load('en_core_web_lg')"
   ]
  },
  {
   "cell_type": "code",
   "execution_count": 47,
   "id": "88bfbe9c",
   "metadata": {
    "execution": {
     "iopub.execute_input": "2023-07-14T21:12:35.745579Z",
     "iopub.status.busy": "2023-07-14T21:12:35.745212Z",
     "iopub.status.idle": "2023-07-14T21:12:35.751860Z",
     "shell.execute_reply": "2023-07-14T21:12:35.750966Z",
     "shell.execute_reply.started": "2023-07-14T21:12:35.745548Z"
    }
   },
   "outputs": [],
   "source": [
    "X_train, y_train = train_features, train_data['label']\n",
    "X_test, y_test = test_features, testing_data_gold['label']\n",
    "X_val, y_val = validation_features, validation_data['label']"
   ]
  },
  {
   "cell_type": "code",
   "execution_count": 48,
   "id": "cc5e9f6b",
   "metadata": {
    "execution": {
     "iopub.execute_input": "2023-07-14T21:12:35.753768Z",
     "iopub.status.busy": "2023-07-14T21:12:35.753395Z",
     "iopub.status.idle": "2023-07-14T21:12:52.142911Z",
     "shell.execute_reply": "2023-07-14T21:12:52.141779Z",
     "shell.execute_reply.started": "2023-07-14T21:12:35.753707Z"
    }
   },
   "outputs": [],
   "source": [
    "train_vectors = X_train\n",
    "val_vectors = X_val\n",
    "test_vectors = X_test"
   ]
  },
  {
   "cell_type": "markdown",
   "id": "3761ef41",
   "metadata": {
    "execution": {
     "iopub.execute_input": "2023-07-14T14:29:22.237172Z",
     "iopub.status.busy": "2023-07-14T14:29:22.236680Z",
     "iopub.status.idle": "2023-07-14T14:29:22.251236Z",
     "shell.execute_reply": "2023-07-14T14:29:22.249733Z",
     "shell.execute_reply.started": "2023-07-14T14:29:22.237128Z"
    }
   },
   "source": [
    "## Baseline model MLPClasifier\n",
    "First we will use grid search for hyperparameter tuning"
   ]
  },
  {
   "cell_type": "code",
   "execution_count": 52,
   "id": "4e0f8268",
   "metadata": {
    "execution": {
     "iopub.execute_input": "2023-07-14T21:13:11.268490Z",
     "iopub.status.busy": "2023-07-14T21:13:11.268105Z",
     "iopub.status.idle": "2023-07-14T21:20:03.981778Z",
     "shell.execute_reply": "2023-07-14T21:20:03.980643Z",
     "shell.execute_reply.started": "2023-07-14T21:13:11.268459Z"
    }
   },
   "outputs": [
    {
     "name": "stdout",
     "output_type": "stream",
     "text": [
      "CPU times: user 20min 1s, sys: 31min 35s, total: 51min 36s\n",
      "Wall time: 6min 48s\n"
     ]
    }
   ],
   "source": [
    "%%time\n",
    "from sklearn.neural_network import MLPClassifier\n",
    "from sklearn.model_selection import train_test_split, ParameterGrid\n",
    "from sklearn.metrics import f1_score\n",
    "from sklearn.preprocessing import StandardScaler\n",
    "\n",
    "param_grid = {\n",
    "    'hidden_layer_sizes': [(100,), (50, 50), (50, 25, 10)],\n",
    "    'activation': [ 'logistic', 'tanh', 'relu'],\n",
    "    'alpha': [0.0001, 0.001, 0.01],\n",
    "    'solver' : ['sgd', 'adam']\n",
    "}\n",
    "\n",
    "mlp = MLPClassifier(random_state=101)\n",
    "\n",
    "\n",
    "mlp_grid = ParameterGrid(param_grid)\n",
    "\n",
    "y_val_series = pd.Series(y_val).replace({'SUBJ': 0, 'OBJ': 1})\n",
    "\n",
    "\n",
    "scaler = StandardScaler()\n",
    "scaled_train_vectors = scaler.fit_transform(train_vectors)\n",
    "scaled_val_vectors = scaler.transform(val_vectors)\n",
    "\n",
    "data = []\n",
    "head = ['hidden_layer_sizes', 'activation', 'alpha', 'score in validation set']\n",
    "\n",
    "i = 0\n",
    "\n",
    "for param in mlp_grid:\n",
    "    mlp_model = MLPClassifier(max_iter = 5000, random_state=0, **param)\n",
    "    mlp_model.fit(scaled_train_vectors, y_train)\n",
    "    \n",
    "    predictions = mlp_model.predict(scaled_val_vectors)\n",
    "    predictions_series = pd.Series(predictions).replace({'SUBJ': 0, 'OBJ': 1})\n",
    "    \n",
    "    score = f1_score(y_val_series, predictions_series)\n",
    "    list_entry = [param['hidden_layer_sizes'], param['activation'], param['alpha'], param['solver'], score]\n",
    "    data.insert(0, list_entry)"
   ]
  },
  {
   "cell_type": "code",
   "execution_count": 53,
   "id": "ea78393c",
   "metadata": {
    "execution": {
     "iopub.execute_input": "2023-07-14T21:22:40.026483Z",
     "iopub.status.busy": "2023-07-14T21:22:40.026016Z",
     "iopub.status.idle": "2023-07-14T21:22:40.048104Z",
     "shell.execute_reply": "2023-07-14T21:22:40.046473Z",
     "shell.execute_reply.started": "2023-07-14T21:22:40.026447Z"
    }
   },
   "outputs": [
    {
     "name": "stdout",
     "output_type": "stream",
     "text": [
      "|              | hidden_layer_sizes   |   activation | alpha   |   score in validation set |\n",
      "|:-------------|:---------------------|-------------:|:--------|--------------------------:|\n",
      "| (50, 25, 10) | relu                 |       0.01   | adam    |                  0.583333 |\n",
      "| (50, 25, 10) | relu                 |       0.01   | sgd     |                  0.597701 |\n",
      "| (50, 50)     | relu                 |       0.01   | adam    |                  0.548263 |\n",
      "| (50, 50)     | relu                 |       0.01   | sgd     |                  0.561538 |\n",
      "| (100,)       | relu                 |       0.01   | adam    |                  0.593156 |\n",
      "| (100,)       | relu                 |       0.01   | sgd     |                  0.593407 |\n",
      "| (50, 25, 10) | relu                 |       0.001  | adam    |                  0.602941 |\n",
      "| (50, 25, 10) | relu                 |       0.001  | sgd     |                  0.606061 |\n",
      "| (50, 50)     | relu                 |       0.001  | adam    |                  0.574713 |\n",
      "| (50, 50)     | relu                 |       0.001  | sgd     |                  0.539062 |\n",
      "| (100,)       | relu                 |       0.001  | adam    |                  0.603774 |\n",
      "| (100,)       | relu                 |       0.001  | sgd     |                  0.595588 |\n",
      "| (50, 25, 10) | relu                 |       0.0001 | adam    |                  0.612546 |\n",
      "| (50, 25, 10) | relu                 |       0.0001 | sgd     |                  0.60076  |\n",
      "| (50, 50)     | relu                 |       0.0001 | adam    |                  0.562738 |\n",
      "| (50, 50)     | relu                 |       0.0001 | sgd     |                  0.551724 |\n",
      "| (100,)       | relu                 |       0.0001 | adam    |                  0.59176  |\n",
      "| (100,)       | relu                 |       0.0001 | sgd     |                  0.595588 |\n",
      "| (50, 25, 10) | tanh                 |       0.01   | adam    |                  0.587786 |\n",
      "| (50, 25, 10) | tanh                 |       0.01   | sgd     |                  0.608696 |\n",
      "| (50, 50)     | tanh                 |       0.01   | adam    |                  0.613718 |\n",
      "| (50, 50)     | tanh                 |       0.01   | sgd     |                  0.607692 |\n",
      "| (100,)       | tanh                 |       0.01   | adam    |                  0.592308 |\n",
      "| (100,)       | tanh                 |       0.01   | sgd     |                  0.612245 |\n",
      "| (50, 25, 10) | tanh                 |       0.001  | adam    |                  0.592308 |\n",
      "| (50, 25, 10) | tanh                 |       0.001  | sgd     |                  0.608696 |\n",
      "| (50, 50)     | tanh                 |       0.001  | adam    |                  0.618705 |\n",
      "| (50, 50)     | tanh                 |       0.001  | sgd     |                  0.607692 |\n",
      "| (100,)       | tanh                 |       0.001  | adam    |                  0.611321 |\n",
      "| (100,)       | tanh                 |       0.001  | sgd     |                  0.612245 |\n",
      "| (50, 25, 10) | tanh                 |       0.0001 | adam    |                  0.592308 |\n",
      "| (50, 25, 10) | tanh                 |       0.0001 | sgd     |                  0.608696 |\n",
      "| (50, 50)     | tanh                 |       0.0001 | adam    |                  0.618705 |\n",
      "| (50, 50)     | tanh                 |       0.0001 | sgd     |                  0.607692 |\n",
      "| (100,)       | tanh                 |       0.0001 | adam    |                  0.619926 |\n",
      "| (100,)       | tanh                 |       0.0001 | sgd     |                  0.612245 |\n",
      "| (50, 25, 10) | logistic             |       0.01   | adam    |                  0.59364  |\n",
      "| (50, 25, 10) | logistic             |       0.01   | sgd     |                  0.652308 |\n",
      "| (50, 50)     | logistic             |       0.01   | adam    |                  0.603636 |\n",
      "| (50, 50)     | logistic             |       0.01   | sgd     |                  0.652308 |\n",
      "| (100,)       | logistic             |       0.01   | adam    |                  0.602151 |\n",
      "| (100,)       | logistic             |       0.01   | sgd     |                  0.652308 |\n",
      "| (50, 25, 10) | logistic             |       0.001  | adam    |                  0.621908 |\n",
      "| (50, 25, 10) | logistic             |       0.001  | sgd     |                  0.652308 |\n",
      "| (50, 50)     | logistic             |       0.001  | adam    |                  0.609929 |\n",
      "| (50, 50)     | logistic             |       0.001  | sgd     |                  0.652308 |\n",
      "| (100,)       | logistic             |       0.001  | adam    |                  0.594982 |\n",
      "| (100,)       | logistic             |       0.001  | sgd     |                  0.652308 |\n",
      "| (50, 25, 10) | logistic             |       0.0001 | adam    |                  0.61324  |\n",
      "| (50, 25, 10) | logistic             |       0.0001 | sgd     |                  0.652308 |\n",
      "| (50, 50)     | logistic             |       0.0001 | adam    |                  0.614841 |\n",
      "| (50, 50)     | logistic             |       0.0001 | sgd     |                  0.652308 |\n",
      "| (100,)       | logistic             |       0.0001 | adam    |                  0.597122 |\n",
      "| (100,)       | logistic             |       0.0001 | sgd     |                  0.652308 |\n",
      "The highest Accuracy 0.652308 is the model model with hidden_layer_sizes = (50, 25, 10), activation = logistic, alpha = 0.010000, solver = sgd\n"
     ]
    }
   ],
   "source": [
    "print(tabulate(data, headers=head, tablefmt=\"pipe\"))\n",
    "max_accuracy = max(entry[4] for entry in data)\n",
    "best_model = next(item for item in data if item[4] == max_accuracy)\n",
    "print(\"The highest Accuracy %f is the model model with hidden_layer_sizes = %s, activation = %s, alpha = %f, solver = %s\"%\n",
    "      (best_model[4], best_model[0], best_model[1], best_model[2], best_model[3]))"
   ]
  },
  {
   "cell_type": "code",
   "execution_count": 54,
   "id": "00b1e4e8",
   "metadata": {
    "execution": {
     "iopub.execute_input": "2023-07-14T21:22:46.283225Z",
     "iopub.status.busy": "2023-07-14T21:22:46.282784Z",
     "iopub.status.idle": "2023-07-14T21:22:49.129122Z",
     "shell.execute_reply": "2023-07-14T21:22:49.127360Z",
     "shell.execute_reply.started": "2023-07-14T21:22:46.283190Z"
    }
   },
   "outputs": [
    {
     "name": "stdout",
     "output_type": "stream",
     "text": [
      "The MLP model with hidden_layer_sizes = (50, 25, 10), activation = logistic, alpha = 0.010000 has 0.4773662551440329 accuracy.\n",
      "              precision    recall  f1-score   support\n",
      "\n",
      "           0    0.00000   0.00000   0.00000       127\n",
      "           1    0.47737   1.00000   0.64624       116\n",
      "\n",
      "    accuracy                        0.47737       243\n",
      "   macro avg    0.23868   0.50000   0.32312       243\n",
      "weighted avg    0.22788   0.47737   0.30849       243\n",
      "\n"
     ]
    },
    {
     "name": "stderr",
     "output_type": "stream",
     "text": [
      "/home/ahmad/.local/lib/python3.10/site-packages/sklearn/metrics/_classification.py:1344: UndefinedMetricWarning: Precision and F-score are ill-defined and being set to 0.0 in labels with no predicted samples. Use `zero_division` parameter to control this behavior.\n",
      "  _warn_prf(average, modifier, msg_start, len(result))\n",
      "/home/ahmad/.local/lib/python3.10/site-packages/sklearn/metrics/_classification.py:1344: UndefinedMetricWarning: Precision and F-score are ill-defined and being set to 0.0 in labels with no predicted samples. Use `zero_division` parameter to control this behavior.\n",
      "  _warn_prf(average, modifier, msg_start, len(result))\n",
      "/home/ahmad/.local/lib/python3.10/site-packages/sklearn/metrics/_classification.py:1344: UndefinedMetricWarning: Precision and F-score are ill-defined and being set to 0.0 in labels with no predicted samples. Use `zero_division` parameter to control this behavior.\n",
      "  _warn_prf(average, modifier, msg_start, len(result))\n",
      "/home/ahmad/.local/lib/python3.10/site-packages/sklearn/metrics/_classification.py:1344: UndefinedMetricWarning: Precision and F-score are ill-defined and being set to 0.0 in labels with no predicted samples. Use `zero_division` parameter to control this behavior.\n",
      "  _warn_prf(average, modifier, msg_start, len(result))\n"
     ]
    }
   ],
   "source": [
    "from sklearn.metrics import classification_report, precision_recall_fscore_support\n",
    "\n",
    "best_mlp_model = MLPClassifier(hidden_layer_sizes=best_model[0], activation=best_model[1], alpha=best_model[2], solver ='sgd', random_state=0)\n",
    "best_mlp_model.fit(train_vectors, y_train)\n",
    "y_pred = best_mlp_model.predict(test_vectors)\n",
    "mlp_accuracy = best_mlp_model.score(test_vectors, y_test)\n",
    "mlp_f_score = precision_recall_fscore_support(y_test, y_pred, average='macro')[2]\n",
    "print(\"The MLP model with hidden_layer_sizes = %s, activation = %s, alpha = %f has %s accuracy.\"\n",
    "      % (best_model[0], best_model[1], best_model[2], mlp_accuracy))\n",
    "mlp_report = classification_report(y_test, y_pred, digits=5)\n",
    "print(mlp_report)\n"
   ]
  },
  {
   "cell_type": "code",
   "execution_count": 55,
   "id": "c64d0b18",
   "metadata": {
    "execution": {
     "iopub.execute_input": "2023-07-14T21:22:55.520139Z",
     "iopub.status.busy": "2023-07-14T21:22:55.519781Z",
     "iopub.status.idle": "2023-07-14T21:22:56.059497Z",
     "shell.execute_reply": "2023-07-14T21:22:56.058312Z",
     "shell.execute_reply.started": "2023-07-14T21:22:55.520110Z"
    }
   },
   "outputs": [
    {
     "data": {
      "image/png": "[encoded data removed]",
      "text/plain": [
       "<Figure size 200x200 with 2 Axes>"
      ]
     },
     "metadata": {},
     "output_type": "display_data"
    }
   ],
   "source": [
    "import matplotlib.pyplot as plt\n",
    "import seaborn as sns\n",
    "\n",
    "con_matrix = pd.crosstab(pd.Series(pd.DataFrame(y_test).values.flatten(), name='Actual'), pd.Series(pd.DataFrame(y_pred).values.flatten(), name='Predicted'))\n",
    "plt.figure(figsize=(2, 2))\n",
    "plt.title(\"Confusion Matrix on MLP\")\n",
    "sns.heatmap(con_matrix, cmap=\"Greys\", annot=True, fmt='g')\n",
    "plt.show()\n"
   ]
  },
  {
   "cell_type": "markdown",
   "id": "4daa8aa6",
   "metadata": {},
   "source": [
    "# SVM"
   ]
  },
  {
   "cell_type": "code",
   "execution_count": 56,
   "id": "f592d57b",
   "metadata": {
    "execution": {
     "iopub.execute_input": "2023-07-14T21:22:59.152448Z",
     "iopub.status.busy": "2023-07-14T21:22:59.151068Z",
     "iopub.status.idle": "2023-07-14T21:26:08.476947Z",
     "shell.execute_reply": "2023-07-14T21:26:08.475736Z",
     "shell.execute_reply.started": "2023-07-14T21:22:59.152378Z"
    }
   },
   "outputs": [
    {
     "name": "stdout",
     "output_type": "stream",
     "text": [
      "|   C | kernel   |   score in validation set |\n",
      "|----:|:---------|--------------------------:|\n",
      "| 100 | rbf      |                 0.0186916 |\n",
      "| 100 | poly     |                 0.4375    |\n",
      "| 100 | linear   |                 0.59589   |\n",
      "| 100 | sigmoid  |                 0.510204  |\n",
      "|  10 | rbf      |                 0         |\n",
      "|  10 | poly     |                 0.509434  |\n",
      "|  10 | linear   |                 0.611111  |\n",
      "|  10 | sigmoid  |                 0.487562  |\n",
      "|   1 | rbf      |                 0.652308  |\n",
      "|   1 | poly     |                 0.492611  |\n",
      "|   1 | linear   |                 0.62585   |\n",
      "|   1 | sigmoid  |                 0.571429  |\n",
      "The highest Accuracy 0.652308 is the model model with C = 1 and used rbf kernal\n",
      "CPU times: user 2.05 s, sys: 0 ns, total: 2.05 s\n",
      "Wall time: 2.05 s\n"
     ]
    }
   ],
   "source": [
    "%%time\n",
    "from sklearn.svm import SVC\n",
    "\n",
    "head = ['C','kernel','score in validation set']\n",
    "\n",
    "data =[]\n",
    "\n",
    "svm_param_grid = {'C': [1, 10, 100], 'kernel': ['sigmoid', 'linear', 'poly', 'rbf']}\n",
    "\n",
    "svm_grid = ParameterGrid(svm_param_grid)\n",
    "\n",
    "i = 0\n",
    "for param in svm_grid:\n",
    "    svm_model = SVC(**param)  \n",
    "    svm_model.fit(train_vectors, y_train)\n",
    "    \n",
    "    predictions = svm_model.predict(scaled_val_vectors)\n",
    "    predictions_series = pd.Series(predictions).replace({'SUBJ': 0, 'OBJ': 1})\n",
    "    \n",
    "    score = f1_score(y_val_series, predictions_series)\n",
    "        \n",
    "    list_entry = [param['C'],  param['kernel'],score]\n",
    "    data.insert(0,list_entry)\n",
    "    \n",
    "print(tabulate(data, headers=head, tablefmt=\"pipe\"))\n",
    "max_accuracy = max(entry[2] for entry in data)\n",
    "for item in data:\n",
    "    if item[2] == max_accuracy:\n",
    "        best_model = item\n",
    "print(\"The highest Accuracy %f is the model model with C = %d and used %s kernal\" %\n",
    "                (best_model[2],best_model[0],best_model[1]))"
   ]
  },
  {
   "cell_type": "code",
   "execution_count": 57,
   "id": "4d93b06c",
   "metadata": {
    "execution": {
     "iopub.execute_input": "2023-07-14T21:26:08.478992Z",
     "iopub.status.busy": "2023-07-14T21:26:08.478631Z",
     "iopub.status.idle": "2023-07-14T21:26:08.626922Z",
     "shell.execute_reply": "2023-07-14T21:26:08.625789Z",
     "shell.execute_reply.started": "2023-07-14T21:26:08.478960Z"
    }
   },
   "outputs": [
    {
     "name": "stdout",
     "output_type": "stream",
     "text": [
      "The SVM model with C = 1 and used Linear basis function as kernel has 0.551440329218107 accuracy with this classification report\n",
      "              precision    recall  f1-score   support\n",
      "\n",
      "           0    0.67308   0.27559   0.39106       127\n",
      "           1    0.51832   0.85345   0.64495       116\n",
      "\n",
      "    accuracy                        0.55144       243\n",
      "   macro avg    0.59570   0.56452   0.51801       243\n",
      "weighted avg    0.59920   0.55144   0.51226       243\n",
      "\n"
     ]
    }
   ],
   "source": [
    "svm_model = SVC(C = 10, kernel='poly')\n",
    "svm_model.fit(train_vectors, y_train)\n",
    "svm_accuracy=svm_model.score(test_vectors, y_test)\n",
    "predictions = svm_model.predict(test_vectors)\n",
    "svm_f_score = precision_recall_fscore_support(y_test,predictions, average='macro')[2]\n",
    "print(\"The SVM model with C = %d and used %s as kernel has %s accuracy with this classification report\"\n",
    "      % (1,\"Linear basis function\", svm_accuracy))\n",
    "svm_report = classification_report(y_test,predictions,digits = 5)\n",
    "print(svm_report)"
   ]
  },
  {
   "cell_type": "code",
   "execution_count": 58,
   "id": "b77cae11",
   "metadata": {
    "execution": {
     "iopub.execute_input": "2023-07-14T21:26:08.629239Z",
     "iopub.status.busy": "2023-07-14T21:26:08.628466Z",
     "iopub.status.idle": "2023-07-14T21:26:08.861930Z",
     "shell.execute_reply": "2023-07-14T21:26:08.860623Z",
     "shell.execute_reply.started": "2023-07-14T21:26:08.629198Z"
    }
   },
   "outputs": [
    {
     "data": {
      "image/png": "[encoded data removed]",
      "text/plain": [
       "<Figure size 200x200 with 2 Axes>"
      ]
     },
     "metadata": {},
     "output_type": "display_data"
    }
   ],
   "source": [
    "import matplotlib.pyplot as plt\n",
    "import seaborn as sns\n",
    "\n",
    "con_matrix = pd.crosstab(pd.Series(pd.DataFrame(y_test).values.flatten(), name='Actual'),\n",
    "                         pd.Series(pd.DataFrame(predictions).values.flatten(), name='Predicted'))\n",
    "plt.figure(figsize=(2, 2))\n",
    "plt.title(\"Confusion Matrix on SVM\")\n",
    "sns.heatmap(con_matrix, cmap=\"Greys\", annot=True, fmt='g')\n",
    "plt.show()\n"
   ]
  },
  {
   "cell_type": "markdown",
   "id": "ee826922",
   "metadata": {},
   "source": [
    "# Random Forrest"
   ]
  },
  {
   "cell_type": "code",
   "execution_count": 59,
   "id": "3dbc404a",
   "metadata": {
    "execution": {
     "iopub.execute_input": "2023-07-14T21:26:08.865457Z",
     "iopub.status.busy": "2023-07-14T21:26:08.865005Z",
     "iopub.status.idle": "2023-07-14T21:26:28.709858Z",
     "shell.execute_reply": "2023-07-14T21:26:28.708650Z",
     "shell.execute_reply.started": "2023-07-14T21:26:08.865405Z"
    }
   },
   "outputs": [
    {
     "name": "stdout",
     "output_type": "stream",
     "text": [
      "|     | n_estimators   |   criterion | max_depth   |   score in validation set |\n",
      "|----:|:---------------|------------:|:------------|--------------------------:|\n",
      "| 100 | gini           |         100 | log2        |                  0.642384 |\n",
      "|  50 | gini           |         100 | log2        |                  0.581395 |\n",
      "|  10 | gini           |         100 | log2        |                  0.552239 |\n",
      "| 100 | gini           |         100 | sqrt        |                  0.62116  |\n",
      "|  50 | gini           |         100 | sqrt        |                  0.589928 |\n",
      "|  10 | gini           |         100 | sqrt        |                  0.566176 |\n",
      "| 100 | gini           |          50 | log2        |                  0.582192 |\n",
      "|  50 | gini           |          50 | log2        |                  0.610169 |\n",
      "|  10 | gini           |          50 | log2        |                  0.461538 |\n",
      "| 100 | gini           |          50 | sqrt        |                  0.630137 |\n",
      "|  50 | gini           |          50 | sqrt        |                  0.641892 |\n",
      "|  10 | gini           |          50 | sqrt        |                  0.5625   |\n",
      "| 100 | gini           |          10 | log2        |                  0.662379 |\n",
      "|  50 | gini           |          10 | log2        |                  0.640777 |\n",
      "|  10 | gini           |          10 | log2        |                  0.614815 |\n",
      "| 100 | gini           |          10 | sqrt        |                  0.632588 |\n",
      "|  50 | gini           |          10 | sqrt        |                  0.625806 |\n",
      "|  10 | gini           |          10 | sqrt        |                  0.627306 |\n",
      "| 100 | entropy        |         100 | log2        |                  0.643533 |\n",
      "|  50 | entropy        |         100 | log2        |                  0.61324  |\n",
      "|  10 | entropy        |         100 | log2        |                  0.617647 |\n",
      "| 100 | entropy        |         100 | sqrt        |                  0.644951 |\n",
      "|  50 | entropy        |         100 | sqrt        |                  0.623656 |\n",
      "|  10 | entropy        |         100 | sqrt        |                  0.571429 |\n",
      "| 100 | entropy        |          50 | log2        |                  0.642623 |\n",
      "|  50 | entropy        |          50 | log2        |                  0.631229 |\n",
      "|  10 | entropy        |          50 | log2        |                  0.618705 |\n",
      "| 100 | entropy        |          50 | sqrt        |                  0.640523 |\n",
      "|  50 | entropy        |          50 | sqrt        |                  0.649351 |\n",
      "|  10 | entropy        |          50 | sqrt        |                  0.577406 |\n",
      "| 100 | entropy        |          10 | log2        |                  0.654088 |\n",
      "|  50 | entropy        |          10 | log2        |                  0.616949 |\n",
      "|  10 | entropy        |          10 | log2        |                  0.659864 |\n",
      "| 100 | entropy        |          10 | sqrt        |                  0.624606 |\n",
      "|  50 | entropy        |          10 | sqrt        |                  0.651899 |\n",
      "|  10 | entropy        |          10 | sqrt        |                  0.622837 |\n",
      "The highest Accuracy 0.662379 is the model model with n_estimators = 100 and used gini criterion with max_depth = 10 and max_features splitter log2\n"
     ]
    }
   ],
   "source": [
    "from sklearn.ensemble import RandomForestClassifier\n",
    "head = ['n_estimators','criterion','max_depth','score in validation set']\n",
    "data =[]\n",
    "rf_param_grid = {'n_estimators': [10, 50, 100], 'criterion': ['entropy', 'gini'],\n",
    "                'max_depth': [10, 50, 100],\n",
    "                'max_features': [\"sqrt\", \"log2\"]}\n",
    "rf_grid = ParameterGrid(rf_param_grid)\n",
    "for param in rf_grid:\n",
    "    rf_model = RandomForestClassifier(**param)  \n",
    "    rf_model.fit(train_vectors, y_train)\n",
    "    \n",
    "    predictions = rf_model.predict(scaled_val_vectors)\n",
    "    predictions_series = pd.Series(predictions).replace({'SUBJ': 0, 'OBJ': 1})\n",
    "    \n",
    "    score = f1_score(y_val_series, predictions_series)\n",
    "    \n",
    "    list_entry = [param['n_estimators'],  param['criterion'], param['max_depth'], param['max_features'],score]\n",
    "\n",
    "    data.insert(0,list_entry)\n",
    "print(tabulate(data, headers=head, tablefmt=\"pipe\"))\n",
    "max_accuracy = max(entry[4] for entry in data)\n",
    "for item in data:\n",
    "    if item[4] == max_accuracy:\n",
    "        best_model = item\n",
    "print(\"The highest Accuracy %f is the model model with n_estimators = %d and used %s criterion with max_depth = %s and max_features splitter %s\"\n",
    "      % (best_model[4],best_model[0],best_model[1], best_model[2], best_model[3]))"
   ]
  },
  {
   "cell_type": "code",
   "execution_count": 60,
   "id": "935ec6f6",
   "metadata": {
    "execution": {
     "iopub.execute_input": "2023-07-14T21:29:48.090097Z",
     "iopub.status.busy": "2023-07-14T21:29:48.089641Z",
     "iopub.status.idle": "2023-07-14T21:29:48.204194Z",
     "shell.execute_reply": "2023-07-14T21:29:48.203091Z",
     "shell.execute_reply.started": "2023-07-14T21:29:48.090064Z"
    }
   },
   "outputs": [
    {
     "name": "stdout",
     "output_type": "stream",
     "text": [
      "The RF Model with n_estimators = 10 and used entropy criterion with max_depth = 100 and max_features splitter log2 has 0.551440329218107 accuracy with this classification report\n",
      "              precision    recall  f1-score   support\n",
      "\n",
      "           0    0.49333   0.29134   0.36634       127\n",
      "           1    0.46429   0.67241   0.54930       116\n",
      "\n",
      "    accuracy                        0.47325       243\n",
      "   macro avg    0.47881   0.48188   0.45782       243\n",
      "weighted avg    0.47947   0.47325   0.45368       243\n",
      "\n"
     ]
    }
   ],
   "source": [
    "rf_model = RandomForestClassifier(n_estimators = 10, max_depth = 100, max_features = 'log2', criterion = 'entropy')\n",
    "rf_model.fit(train_vectors, y_train)\n",
    "rf_accuracy=rf_model.score(test_vectors, y_test)\n",
    "predictions = rf_model.predict(test_vectors)\n",
    "rf_f_score = precision_recall_fscore_support(y_test,predictions, average='macro')[2]\n",
    "print(\"The RF Model with n_estimators = 10 and used entropy criterion with max_depth = 100 and max_features splitter log2 has %s accuracy with this classification report\"\n",
    "      % (svm_accuracy))\n",
    "svm_report = classification_report(y_test,predictions,digits = 5)\n",
    "print(svm_report)"
   ]
  },
  {
   "cell_type": "code",
   "execution_count": 103,
   "id": "ba352a31",
   "metadata": {},
   "outputs": [],
   "source": [
    "import numpy as np # linear algebra\n",
    "import pandas as pd # data processing, CSV file I/O (e.g. pd.read_csv)\n",
    "import os\n",
    "import sys\n",
    "import zipfile\n",
    "import datetime"
   ]
  },
  {
   "cell_type": "code",
   "execution_count": 104,
   "id": "1ebd70ab",
   "metadata": {},
   "outputs": [
    {
     "name": "stdout",
     "output_type": "stream",
     "text": [
      "huggingface/tokenizers: The current process just got forked, after parallelism has already been used. Disabling parallelism to avoid deadlocks...\n",
      "To disable this warning, you can either:\n",
      "\t- Avoid using `tokenizers` before the fork if possible\n",
      "\t- Explicitly set the environment variable TOKENIZERS_PARALLELISM=(true | false)\n",
      "Requirement already satisfied: pytorch_pretrained_bert in /home/ahmad/exit/lib/python3.10/site-packages (0.6.2)\n",
      "Requirement already satisfied: torch>=0.4.1 in /home/ahmad/.local/lib/python3.10/site-packages (from pytorch_pretrained_bert) (2.0.1)\n",
      "Requirement already satisfied: numpy in /home/ahmad/.local/lib/python3.10/site-packages (from pytorch_pretrained_bert) (1.24.2)\n",
      "Requirement already satisfied: boto3 in /home/ahmad/exit/lib/python3.10/site-packages (from pytorch_pretrained_bert) (1.28.3)\n",
      "Requirement already satisfied: requests in /home/ahmad/exit/lib/python3.10/site-packages (from pytorch_pretrained_bert) (2.29.0)\n",
      "Requirement already satisfied: tqdm in /home/ahmad/.local/lib/python3.10/site-packages (from pytorch_pretrained_bert) (4.65.0)\n",
      "Requirement already satisfied: regex in /home/ahmad/exit/lib/python3.10/site-packages (from pytorch_pretrained_bert) (2023.6.3)\n",
      "Requirement already satisfied: filelock in /home/ahmad/exit/lib/python3.10/site-packages (from torch>=0.4.1->pytorch_pretrained_bert) (3.12.2)\n",
      "Requirement already satisfied: typing-extensions in /home/ahmad/.local/lib/python3.10/site-packages (from torch>=0.4.1->pytorch_pretrained_bert) (4.6.3)\n",
      "Requirement already satisfied: sympy in /home/ahmad/exit/lib/python3.10/site-packages (from torch>=0.4.1->pytorch_pretrained_bert) (1.11.1)\n",
      "Requirement already satisfied: networkx in /home/ahmad/.local/lib/python3.10/site-packages (from torch>=0.4.1->pytorch_pretrained_bert) (3.1)\n",
      "Requirement already satisfied: jinja2 in /home/ahmad/exit/lib/python3.10/site-packages (from torch>=0.4.1->pytorch_pretrained_bert) (3.1.2)\n",
      "Requirement already satisfied: nvidia-cuda-nvrtc-cu11==11.7.99 in /home/ahmad/.local/lib/python3.10/site-packages (from torch>=0.4.1->pytorch_pretrained_bert) (11.7.99)\n",
      "Requirement already satisfied: nvidia-cuda-runtime-cu11==11.7.99 in /home/ahmad/.local/lib/python3.10/site-packages (from torch>=0.4.1->pytorch_pretrained_bert) (11.7.99)\n",
      "Requirement already satisfied: nvidia-cuda-cupti-cu11==11.7.101 in /home/ahmad/.local/lib/python3.10/site-packages (from torch>=0.4.1->pytorch_pretrained_bert) (11.7.101)\n",
      "Requirement already satisfied: nvidia-cudnn-cu11==8.5.0.96 in /home/ahmad/.local/lib/python3.10/site-packages (from torch>=0.4.1->pytorch_pretrained_bert) (8.5.0.96)\n",
      "Requirement already satisfied: nvidia-cublas-cu11==11.10.3.66 in /home/ahmad/.local/lib/python3.10/site-packages (from torch>=0.4.1->pytorch_pretrained_bert) (11.10.3.66)\n",
      "Requirement already satisfied: nvidia-cufft-cu11==10.9.0.58 in /home/ahmad/.local/lib/python3.10/site-packages (from torch>=0.4.1->pytorch_pretrained_bert) (10.9.0.58)\n",
      "Requirement already satisfied: nvidia-curand-cu11==10.2.10.91 in /home/ahmad/.local/lib/python3.10/site-packages (from torch>=0.4.1->pytorch_pretrained_bert) (10.2.10.91)\n",
      "Requirement already satisfied: nvidia-cusolver-cu11==11.4.0.1 in /home/ahmad/.local/lib/python3.10/site-packages (from torch>=0.4.1->pytorch_pretrained_bert) (11.4.0.1)\n",
      "Requirement already satisfied: nvidia-cusparse-cu11==11.7.4.91 in /home/ahmad/.local/lib/python3.10/site-packages (from torch>=0.4.1->pytorch_pretrained_bert) (11.7.4.91)\n",
      "Requirement already satisfied: nvidia-nccl-cu11==2.14.3 in /home/ahmad/.local/lib/python3.10/site-packages (from torch>=0.4.1->pytorch_pretrained_bert) (2.14.3)\n",
      "Requirement already satisfied: nvidia-nvtx-cu11==11.7.91 in /home/ahmad/.local/lib/python3.10/site-packages (from torch>=0.4.1->pytorch_pretrained_bert) (11.7.91)\n",
      "Requirement already satisfied: triton==2.0.0 in /home/ahmad/.local/lib/python3.10/site-packages (from torch>=0.4.1->pytorch_pretrained_bert) (2.0.0)\n",
      "Requirement already satisfied: setuptools in /home/ahmad/exit/lib/python3.10/site-packages (from nvidia-cublas-cu11==11.10.3.66->torch>=0.4.1->pytorch_pretrained_bert) (65.6.3)\n",
      "Requirement already satisfied: wheel in /home/ahmad/exit/lib/python3.10/site-packages (from nvidia-cublas-cu11==11.10.3.66->torch>=0.4.1->pytorch_pretrained_bert) (0.38.4)\n",
      "Requirement already satisfied: cmake in /home/ahmad/.local/lib/python3.10/site-packages (from triton==2.0.0->torch>=0.4.1->pytorch_pretrained_bert) (3.26.4)\n",
      "Requirement already satisfied: lit in /home/ahmad/.local/lib/python3.10/site-packages (from triton==2.0.0->torch>=0.4.1->pytorch_pretrained_bert) (16.0.6)\n",
      "Requirement already satisfied: botocore<1.32.0,>=1.31.3 in /home/ahmad/exit/lib/python3.10/site-packages (from boto3->pytorch_pretrained_bert) (1.31.3)\n",
      "Requirement already satisfied: jmespath<2.0.0,>=0.7.1 in /home/ahmad/exit/lib/python3.10/site-packages (from boto3->pytorch_pretrained_bert) (1.0.1)\n",
      "Requirement already satisfied: s3transfer<0.7.0,>=0.6.0 in /home/ahmad/exit/lib/python3.10/site-packages (from boto3->pytorch_pretrained_bert) (0.6.1)\n",
      "Requirement already satisfied: charset-normalizer<4,>=2 in /home/ahmad/exit/lib/python3.10/site-packages (from requests->pytorch_pretrained_bert) (2.0.4)\n",
      "Requirement already satisfied: idna<4,>=2.5 in /home/ahmad/exit/lib/python3.10/site-packages (from requests->pytorch_pretrained_bert) (3.4)\n",
      "Requirement already satisfied: urllib3<1.27,>=1.21.1 in /home/ahmad/exit/lib/python3.10/site-packages (from requests->pytorch_pretrained_bert) (1.26.16)\n",
      "Requirement already satisfied: certifi>=2017.4.17 in /home/ahmad/exit/lib/python3.10/site-packages (from requests->pytorch_pretrained_bert) (2023.5.7)\n",
      "Requirement already satisfied: python-dateutil<3.0.0,>=2.1 in /home/ahmad/exit/lib/python3.10/site-packages (from botocore<1.32.0,>=1.31.3->boto3->pytorch_pretrained_bert) (2.8.2)\n",
      "Requirement already satisfied: MarkupSafe>=2.0 in /home/ahmad/exit/lib/python3.10/site-packages (from jinja2->torch>=0.4.1->pytorch_pretrained_bert) (2.1.1)\n",
      "Requirement already satisfied: mpmath>=0.19 in /home/ahmad/exit/lib/python3.10/site-packages (from sympy->torch>=0.4.1->pytorch_pretrained_bert) (1.3.0)\n",
      "Requirement already satisfied: six>=1.5 in /home/ahmad/exit/lib/python3.10/site-packages (from python-dateutil<3.0.0,>=2.1->botocore<1.32.0,>=1.31.3->boto3->pytorch_pretrained_bert) (1.16.0)\n"
     ]
    }
   ],
   "source": [
    "!pip install pytorch_pretrained_bert "
   ]
  },
  {
   "cell_type": "code",
   "execution_count": 105,
   "id": "ca17c5f6",
   "metadata": {},
   "outputs": [],
   "source": [
    "\n",
    "import torch\n",
    "from pytorch_pretrained_bert import BertTokenizer, BertModel, BertForMaskedLM, BertForSequenceClassification\n"
   ]
  },
  {
   "cell_type": "code",
   "execution_count": 106,
   "id": "87fa12a6",
   "metadata": {},
   "outputs": [],
   "source": [
    "tokenizer = BertTokenizer.from_pretrained('bert-base-uncased')"
   ]
  },
  {
   "cell_type": "code",
   "execution_count": 107,
   "id": "df6d9607",
   "metadata": {},
   "outputs": [],
   "source": [
    "# Reading the dataset\n",
    "train = pd.read_csv('./data/subtask-2-english/train_en.tsv', delimiter='\\t', index_col = 'sentence_id')\n",
    "val = pd.read_csv('./data/subtask-2-english/dev_en.tsv', delimiter='\\t', index_col = 'sentence_id')\n",
    "#test = pd.read_csv('./data/subtask-2-english/test_en.tsv', delimiter='\\t', index_col = 'sentence_id')\n",
    "test = pd.read_csv('./data/subtask-2-english/test_en_gold.tsv', delimiter='\\t', index_col = 'sentence_id')\n"
   ]
  },
  {
   "cell_type": "code",
   "execution_count": 108,
   "id": "6b0cf9a5",
   "metadata": {},
   "outputs": [
    {
     "data": {
      "text/html": [
       "<div>\n",
       "<style scoped>\n",
       "    .dataframe tbody tr th:only-of-type {\n",
       "        vertical-align: middle;\n",
       "    }\n",
       "\n",
       "    .dataframe tbody tr th {\n",
       "        vertical-align: top;\n",
       "    }\n",
       "\n",
       "    .dataframe thead th {\n",
       "        text-align: right;\n",
       "    }\n",
       "</style>\n",
       "<table border=\"1\" class=\"dataframe\">\n",
       "  <thead>\n",
       "    <tr style=\"text-align: right;\">\n",
       "      <th></th>\n",
       "      <th>sentence</th>\n",
       "      <th>label</th>\n",
       "    </tr>\n",
       "    <tr>\n",
       "      <th>sentence_id</th>\n",
       "      <th></th>\n",
       "      <th></th>\n",
       "    </tr>\n",
       "  </thead>\n",
       "  <tbody>\n",
       "    <tr>\n",
       "      <th>b9e1635a-72aa-467f-86d6-f56ef09f62c3</th>\n",
       "      <td>Gone are the days when they led the world in r...</td>\n",
       "      <td>SUBJ</td>\n",
       "    </tr>\n",
       "    <tr>\n",
       "      <th>f99b5143-70d2-494a-a2f5-c68f10d09d0a</th>\n",
       "      <td>The trend is expected to reverse as soon as ne...</td>\n",
       "      <td>OBJ</td>\n",
       "    </tr>\n",
       "    <tr>\n",
       "      <th>4076639c-aa56-4202-ae0f-9d9217f8da68</th>\n",
       "      <td>But there is the specious point again.</td>\n",
       "      <td>OBJ</td>\n",
       "    </tr>\n",
       "  </tbody>\n",
       "</table>\n",
       "</div>"
      ],
      "text/plain": [
       "                                                                               sentence  \\\n",
       "sentence_id                                                                               \n",
       "b9e1635a-72aa-467f-86d6-f56ef09f62c3  Gone are the days when they led the world in r...   \n",
       "f99b5143-70d2-494a-a2f5-c68f10d09d0a  The trend is expected to reverse as soon as ne...   \n",
       "4076639c-aa56-4202-ae0f-9d9217f8da68             But there is the specious point again.   \n",
       "\n",
       "                                     label  \n",
       "sentence_id                                 \n",
       "b9e1635a-72aa-467f-86d6-f56ef09f62c3  SUBJ  \n",
       "f99b5143-70d2-494a-a2f5-c68f10d09d0a   OBJ  \n",
       "4076639c-aa56-4202-ae0f-9d9217f8da68   OBJ  "
      ]
     },
     "execution_count": 108,
     "metadata": {},
     "output_type": "execute_result"
    }
   ],
   "source": [
    "cols = ['sentence', \n",
    "        'label']\n",
    "train = train.loc[:, cols]\n",
    "test = test.loc[:, cols]\n",
    "train.fillna('UNKNOWN', inplace=True)\n",
    "test.fillna('UNKNOWN', inplace=True)\n",
    "train.head(3)"
   ]
  },
  {
   "cell_type": "code",
   "execution_count": 109,
   "id": "755df1e6",
   "metadata": {},
   "outputs": [
    {
     "data": {
      "text/plain": [
       "Counter({'OBJ': 532, 'SUBJ': 298})"
      ]
     },
     "execution_count": 109,
     "metadata": {},
     "output_type": "execute_result"
    }
   ],
   "source": [
    "from collections import Counter\n",
    "Counter(train.label)"
   ]
  },
  {
   "cell_type": "code",
   "execution_count": 110,
   "id": "b24381ea",
   "metadata": {},
   "outputs": [
    {
     "name": "stdout",
     "output_type": "stream",
     "text": [
      "huggingface/tokenizers: The current process just got forked, after parallelism has already been used. Disabling parallelism to avoid deadlocks...\n",
      "To disable this warning, you can either:\n",
      "\t- Avoid using `tokenizers` before the fork if possible\n",
      "\t- Explicitly set the environment variable TOKENIZERS_PARALLELISM=(true | false)\n",
      "--2023-07-15 14:07:47--  https://github.com/google-research/bert/blob/f39e881b169b9d53bea03d2d341b31707a6c052b/run_classifier.py\n",
      "Resolving github.com (github.com)... 140.82.121.3\n",
      "Connecting to github.com (github.com)|140.82.121.3|:443... connected.\n",
      "HTTP request sent, awaiting response... 200 OK\n",
      "Length: 177266 (173K) [text/plain]\n",
      "Saving to: ‘run_classifier.py.3’\n",
      "\n",
      "run_classifier.py.3 100%[===================>] 173.11K  --.-KB/s    in 0.05s   \n",
      "\n",
      "2023-07-15 14:07:47 (3.20 MB/s) - ‘run_classifier.py.3’ saved [177266/177266]\n",
      "\n"
     ]
    }
   ],
   "source": [
    "!wget https://github.com/google-research/bert/blob/f39e881b169b9d53bea03d2d341b31707a6c052b/run_classifier.py\n"
   ]
  },
  {
   "cell_type": "code",
   "execution_count": 111,
   "id": "dd87e86c",
   "metadata": {},
   "outputs": [],
   "source": [
    "label_list = ['OBJ', 'SUBJ']"
   ]
  },
  {
   "cell_type": "code",
   "execution_count": 112,
   "id": "41407868",
   "metadata": {},
   "outputs": [],
   "source": [
    "import dataclasses\n",
    "from dataclasses import dataclass\n",
    "from typing import List, Optional, Union\n",
    "@dataclass\n",
    "class InputExample:\n",
    "    \"\"\"\n",
    "    A single training/test example for simple sequence classification.\n",
    "\n",
    "    Args:\n",
    "        guid: Unique id for the example.\n",
    "        text_a: string. The untokenized text of the first sequence. For single\n",
    "            sequence tasks, only this sequence must be specified.\n",
    "        text_b: (Optional) string. The untokenized text of the second sequence.\n",
    "            Only must be specified for sequence pair tasks.\n",
    "        label: (Optional) string. The label of the example. This should be\n",
    "            specified for train and dev examples, but not for test examples.\n",
    "    \"\"\"\n",
    "\n",
    "    sentence_id: str\n",
    "    text_a: str\n",
    "    text_b: Optional[str] = None\n",
    "    label: Optional[str] = None\n",
    "\n",
    "    def to_json_string(self):\n",
    "        \"\"\"Serializes this instance to a JSON string.\"\"\"\n",
    "        return json.dumps(dataclasses.asdict(self), indent=2) + \"\\n\""
   ]
  },
  {
   "cell_type": "code",
   "execution_count": 113,
   "id": "521929da",
   "metadata": {},
   "outputs": [
    {
     "data": {
      "text/plain": [
       "830"
      ]
     },
     "execution_count": 113,
     "metadata": {},
     "output_type": "execute_result"
    }
   ],
   "source": [
    "\n",
    "train_examples = [InputExample(row.Index, row.sentence, label = row.label) for row in train.itertuples()]\n",
    "val_examples = [InputExample(row.Index, row.sentence, label = row.label) for row in val.itertuples()]\n",
    "test_examples = [InputExample(row.Index, row.sentence, label = 'OBJ') for row in test.itertuples()]\n",
    "\n",
    "len(train_examples)"
   ]
  },
  {
   "cell_type": "code",
   "execution_count": 114,
   "id": "4c1557f0",
   "metadata": {},
   "outputs": [
    {
     "data": {
      "text/plain": [
       "InputExample(sentence_id='f99b5143-70d2-494a-a2f5-c68f10d09d0a', text_a='The trend is expected to reverse as soon as next month.', text_b=None, label='OBJ')"
      ]
     },
     "execution_count": 114,
     "metadata": {},
     "output_type": "execute_result"
    }
   ],
   "source": [
    "train_examples[1]"
   ]
  },
  {
   "cell_type": "code",
   "execution_count": 115,
   "id": "0ef60414",
   "metadata": {},
   "outputs": [],
   "source": [
    "device = torch.device(\"cuda\" if torch.cuda.is_available() else \"cpu\")\n",
    "n_gpu = torch.cuda.device_count()\n",
    "gradient_accumulation_steps = 1\n",
    "train_batch_size = 32\n",
    "eval_batch_size = 128\n",
    "train_batch_size = train_batch_size // gradient_accumulation_steps\n",
    "output_dir = 'output'\n",
    "bert_model = 'bert-base-chinese'\n",
    "num_train_epochs = 3\n",
    "num_train_optimization_steps = int(\n",
    "            len(train_examples) / train_batch_size / gradient_accumulation_steps) * num_train_epochs\n",
    "cache_dir = \"model\"\n",
    "learning_rate = 5e-5\n",
    "warmup_proportion = 0.1\n",
    "max_seq_length = 128\n",
    "label_list = ['unrelated', 'agreed', 'disagreed']"
   ]
  },
  {
   "cell_type": "code",
   "execution_count": 116,
   "id": "0e90491d",
   "metadata": {},
   "outputs": [
    {
     "data": {
      "text/plain": [
       "<pytorch_pretrained_bert.tokenization.BertTokenizer at 0x7fde2554b160>"
      ]
     },
     "execution_count": 116,
     "metadata": {},
     "output_type": "execute_result"
    }
   ],
   "source": [
    "BertTokenizer.from_pretrained('bert-base-uncased')"
   ]
  },
  {
   "cell_type": "code",
   "execution_count": 117,
   "id": "26e28099",
   "metadata": {},
   "outputs": [
    {
     "data": {
      "text/plain": [
       "(BertForSequenceClassification(\n",
       "   (bert): BertModel(\n",
       "     (embeddings): BertEmbeddings(\n",
       "       (word_embeddings): Embedding(30522, 768, padding_idx=0)\n",
       "       (position_embeddings): Embedding(512, 768)\n",
       "       (token_type_embeddings): Embedding(2, 768)\n",
       "       (LayerNorm): BertLayerNorm()\n",
       "       (dropout): Dropout(p=0.1, inplace=False)\n",
       "     )\n",
       "     (encoder): BertEncoder(\n",
       "       (layer): ModuleList(\n",
       "         (0-11): 12 x BertLayer(\n",
       "           (attention): BertAttention(\n",
       "             (self): BertSelfAttention(\n",
       "               (query): Linear(in_features=768, out_features=768, bias=True)\n",
       "               (key): Linear(in_features=768, out_features=768, bias=True)\n",
       "               (value): Linear(in_features=768, out_features=768, bias=True)\n",
       "               (dropout): Dropout(p=0.1, inplace=False)\n",
       "             )\n",
       "             (output): BertSelfOutput(\n",
       "               (dense): Linear(in_features=768, out_features=768, bias=True)\n",
       "               (LayerNorm): BertLayerNorm()\n",
       "               (dropout): Dropout(p=0.1, inplace=False)\n",
       "             )\n",
       "           )\n",
       "           (intermediate): BertIntermediate(\n",
       "             (dense): Linear(in_features=768, out_features=3072, bias=True)\n",
       "           )\n",
       "           (output): BertOutput(\n",
       "             (dense): Linear(in_features=3072, out_features=768, bias=True)\n",
       "             (LayerNorm): BertLayerNorm()\n",
       "             (dropout): Dropout(p=0.1, inplace=False)\n",
       "           )\n",
       "         )\n",
       "       )\n",
       "     )\n",
       "     (pooler): BertPooler(\n",
       "       (dense): Linear(in_features=768, out_features=768, bias=True)\n",
       "       (activation): Tanh()\n",
       "     )\n",
       "   )\n",
       "   (dropout): Dropout(p=0.1, inplace=False)\n",
       "   (classifier): Linear(in_features=768, out_features=3, bias=True)\n",
       " ),\n",
       " BertTokenizerFast(name_or_path='bert-base-uncased', vocab_size=30522, model_max_length=512, is_fast=True, padding_side='right', truncation_side='right', special_tokens={'unk_token': '[UNK]', 'sep_token': '[SEP]', 'pad_token': '[PAD]', 'cls_token': '[CLS]', 'mask_token': '[MASK]'}, clean_up_tokenization_spaces=True))"
      ]
     },
     "execution_count": 117,
     "metadata": {},
     "output_type": "execute_result"
    }
   ],
   "source": [
    "from transformers import AutoTokenizer\n",
    "\n",
    "tokenizer = AutoTokenizer.from_pretrained('bert-base-uncased')\n",
    "model = BertForSequenceClassification.from_pretrained('bert-base-uncased',\n",
    "              cache_dir=cache_dir,\n",
    "              num_labels = 3)\n",
    "model.to(device)\n",
    "if n_gpu > 1:\n",
    "    model = torch.nn.DataParallel(model)\n",
    "model, tokenizer\n",
    "\n"
   ]
  },
  {
   "cell_type": "code",
   "execution_count": 118,
   "id": "5d80a5ce",
   "metadata": {},
   "outputs": [
    {
     "name": "stderr",
     "output_type": "stream",
     "text": [
      "/home/ahmad/exit/lib/python3.10/site-packages/transformers/optimization.py:411: FutureWarning: This implementation of AdamW is deprecated and will be removed in a future version. Use the PyTorch implementation torch.optim.AdamW instead, or set `no_deprecation_warning=True` to disable this warning\n",
      "  warnings.warn(\n"
     ]
    }
   ],
   "source": [
    "from transformers import AdamW\n",
    "param_optimizer = list(model.named_parameters())\n",
    "no_decay = ['bias', 'LayerNorm.bias', 'LayerNorm.weight']\n",
    "optimizer_grouped_parameters = [\n",
    "    {'params': [p for n, p in param_optimizer if not any(nd in n for nd in no_decay)], 'weight_decay': 0.01},\n",
    "    {'params': [p for n, p in param_optimizer if any(nd in n for nd in no_decay)], 'weight_decay': 0.0}\n",
    "    ]\n",
    "optimizer = AdamW(optimizer_grouped_parameters,\n",
    "                             lr=learning_rate)"
   ]
  },
  {
   "cell_type": "code",
   "execution_count": 141,
   "id": "28574577",
   "metadata": {},
   "outputs": [],
   "source": [
    "from transformers import PreTrainedTokenizer\n",
    "\n",
    "def convert_examples_to_features(\n",
    "    examples: List[InputExample],\n",
    "    label_list: List[str],\n",
    "    max_length: int,\n",
    "    tokenizer: PreTrainedTokenizer,\n",
    "):\n",
    "    \"\"\"\n",
    "    Loads a data file into a list of ``InputFeatures``\n",
    "\n",
    "    Args:\n",
    "        examples: List of ``InputExamples`` containing the examples.\n",
    "        label_list: List of labels. Can be obtained from the processor using the ``processor.get_labels()`` method.\n",
    "        max_length: Maximum example length.\n",
    "        tokenizer: Instance of a tokenizer that will tokenize the examples.\n",
    "\n",
    "    Returns:\n",
    "        A list of task-specific ``InputFeatures`` which can be fed to the model.\n",
    "\n",
    "    \"\"\"\n",
    "\n",
    "    label_map = {label: i for i, label in enumerate(label_list)}\n",
    "\n",
    "    features = []\n",
    "    for ex_index, example in tqdm.tqdm(enumerate(examples), desc=\"convert examples to features\"):\n",
    "        if ex_index % 10000 == 0:\n",
    "            logger.info(\"Writing example %d\" % (ex_index))\n",
    "\n",
    "        inputs = tokenizer(\n",
    "            example.text_a,\n",
    "            add_special_tokens=True,\n",
    "            max_length=max_length,\n",
    "            padding=\"max_length\",\n",
    "            truncation=True,\n",
    "            return_overflowing_tokens=True,\n",
    "        )\n",
    "\n",
    "        label = label_map[example.label] if example.label in label_map else 0\n",
    "\n",
    "        sentenceID = example.sentence_id\n",
    "        features.append(InputFeatures(**inputs, label=label, sentence_id=sentenceID))\n",
    "\n",
    "    for i, example in enumerate(examples[:5]):\n",
    "        logger.info(\"*** Example ***\")\n",
    "        logger.info(f\"guid: {example}\")\n",
    "        logger.info(f\"features: {features[i]}\")\n",
    "\n",
    "    return features\n"
   ]
  },
  {
   "cell_type": "code",
   "execution_count": 142,
   "id": "a12918dc",
   "metadata": {},
   "outputs": [],
   "source": [
    "@dataclass(frozen=True)\n",
    "class InputFeatures:\n",
    "    \"\"\"\n",
    "    A single set of features of data.\n",
    "    Property names are the same names as the corresponding inputs to a model.\n",
    "\n",
    "    Args:\n",
    "        input_ids: Indices of input sequence tokens in the vocabulary.\n",
    "        attention_mask: Mask to avoid performing attention on padding token indices.\n",
    "            Mask values selected in ``[0, 1]``:\n",
    "            Usually  ``1`` for tokens that are NOT MASKED, ``0`` for MASKED (padded) tokens.\n",
    "        token_type_ids: (Optional) Segment token indices to indicate first and second\n",
    "            portions of the inputs. Only some models use them.\n",
    "        label: (Optional) Label corresponding to the input. Int for classification problems,\n",
    "            float for regression problems.\n",
    "        pairID: (Optional) Unique identifier for the pair of sentences.\n",
    "    \"\"\"\n",
    "\n",
    "    input_ids: List[str]\n",
    "    attention_mask: Optional[List[int]] = None\n",
    "    token_type_ids: Optional[List[int]] = None\n",
    "    overflow_to_sample_mapping: Optional[List[int]] = None  \n",
    "    label: Optional[Union[int, float]] = None\n",
    "    sentence_id: Optional[int] = None"
   ]
  },
  {
   "cell_type": "code",
   "execution_count": null,
   "id": "98a3e898",
   "metadata": {},
   "outputs": [
    {
     "name": "stderr",
     "output_type": "stream",
     "text": [
      "convert examples to features: 830it [00:00, 9823.31it/s]\n",
      "Epoch:   0%|                                              | 0/3 [00:00<?, ?it/s]"
     ]
    }
   ],
   "source": [
    "import tqdm\n",
    "import logging\n",
    "import torch\n",
    "from torch.utils.data import TensorDataset, RandomSampler, DataLoader\n",
    "from tqdm import trange \n",
    "logger = logging.getLogger(__name__)\n",
    "global_step = 0\n",
    "nb_tr_steps = 0\n",
    "tr_loss = 0\n",
    "\n",
    "train_features = convert_examples_to_features(\n",
    "    train_examples, label_list, max_seq_length, tokenizer)\n",
    "logger.info(\"***** Running training *****\")\n",
    "logger.info(\"  Num examples = %d\", len(train_examples))\n",
    "logger.info(\"  Batch size = %d\", train_batch_size)\n",
    "logger.info(\"  Num steps = %d\", num_train_optimization_steps)\n",
    "all_input_ids = torch.tensor([f.input_ids[0] for f in train_features], dtype=torch.long)\n",
    "all_input_mask = torch.tensor([f.attention_mask[0] for f in train_features], dtype=torch.long)\n",
    "all_segment_ids = torch.tensor([f.token_type_ids[0] for f in train_features], dtype=torch.long)\n",
    "# all_label_ids = torch.tensor([hash(f.sentence_id) for f in train_features], dtype=torch.long)\n",
    "train_data = TensorDataset(all_input_ids, all_input_mask, all_segment_ids)\n",
    "train_sampler = RandomSampler(train_data)\n",
    "train_dataloader = DataLoader(train_data, sampler=train_sampler, batch_size=train_batch_size)\n",
    "\n",
    "model.train()\n",
    "for _ in trange(int(num_train_epochs), desc=\"Epoch\"):\n",
    "    tr_loss = 0\n",
    "    nb_tr_examples, nb_tr_steps = 0, 0\n",
    "    total_step = len(train_data) // train_batch_size\n",
    "    ten_percent_step = total_step // 10\n",
    "    for step, batch in enumerate(train_dataloader):\n",
    "        batch = tuple(t.to(device) for t in batch)\n",
    "        input_ids, input_mask, segment_ids = batch\n",
    "        loss = model(input_ids, segment_ids, input_mask)\n",
    "        if n_gpu > 1:\n",
    "            loss = loss.mean() # mean() to average on multi-gpu.\n",
    "        if gradient_accumulation_steps > 1:\n",
    "            loss = loss / gradient_accumulation_steps\n",
    "\n",
    "        loss.backward()\n",
    "\n",
    "        tr_loss += loss.item()\n",
    "        nb_tr_examples += input_ids.size(0)\n",
    "        nb_tr_steps += 1\n",
    "        if (step + 1) % gradient_accumulation_steps == 0:\n",
    "            optimizer.step()\n",
    "            optimizer.zero_grad()\n",
    "            global_step += 1\n",
    "            \n",
    "        if step % ten_percent_step == 0:\n",
    "            print(\"Fininshed: {:.2f}% ({}/{})\".format(step/total_step*100, step, total_step))"
   ]
  },
  {
   "cell_type": "code",
   "execution_count": 155,
   "id": "b2b80952",
   "metadata": {},
   "outputs": [
    {
     "data": {
      "text/plain": [
       "'f99b5143-70d2-494a-a2f5-c68f10d09d0a'"
      ]
     },
     "execution_count": 155,
     "metadata": {},
     "output_type": "execute_result"
    }
   ],
   "source": [
    "train_features[1].sentence_id"
   ]
  },
  {
   "cell_type": "code",
   "execution_count": 159,
   "id": "062b9f05",
   "metadata": {},
   "outputs": [
    {
     "name": "stdout",
     "output_type": "stream",
     "text": [
      "-1501710073152371257\n"
     ]
    }
   ],
   "source": [
    "id_string = \"f99b5143-70d2-494a-a2f5-c68f10d09d0a\"\n",
    "numeric_value = hash(id_string)\n",
    "print(numeric_value)\n"
   ]
  },
  {
   "cell_type": "code",
   "execution_count": null,
   "id": "e7859eac",
   "metadata": {},
   "outputs": [],
   "source": []
  }
 ],
 "metadata": {
  "kernelspec": {
   "display_name": "base",
   "language": "python",
   "name": "base"
  },
  "language_info": {
   "codemirror_mode": {
    "name": "ipython",
    "version": 3
   },
   "file_extension": ".py",
   "mimetype": "text/x-python",
   "name": "python",
   "nbconvert_exporter": "python",
   "pygments_lexer": "ipython3",
   "version": "3.10.11"
  }
 },
 "nbformat": 4,
 "nbformat_minor": 5
}
